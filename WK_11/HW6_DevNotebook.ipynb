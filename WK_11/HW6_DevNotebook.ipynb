{
 "cells": [
  {
   "cell_type": "code",
   "execution_count": 3,
   "metadata": {
    "collapsed": false
   },
   "outputs": [
    {
     "name": "stderr",
     "output_type": "stream",
     "text": [
      "Using Theano backend.\n"
     ]
    },
    {
     "name": "stdout",
     "output_type": "stream",
     "text": [
      "Populating the interactive namespace from numpy and matplotlib\n"
     ]
    }
   ],
   "source": [
    "import numpy\n",
    "from keras.datasets import mnist\n",
    "from keras.models import Sequential\n",
    "from keras.layers import Dense, Dropout, Flatten\n",
    "from keras.layers.convolutional import Convolution2D, MaxPooling2D\n",
    "from keras.utils import np_utils\n",
    "from keras import backend as K\n",
    "K.set_image_dim_ordering('th')\n",
    "\n",
    "%pylab inline"
   ]
  },
  {
   "cell_type": "code",
   "execution_count": 4,
   "metadata": {
    "collapsed": true
   },
   "outputs": [],
   "source": [
    "seed = 9103\n",
    "numpy.random.seed(seed)"
   ]
  },
  {
   "cell_type": "markdown",
   "metadata": {},
   "source": [
    "In Keras, the layers used for two-dimensional convolutions expect pixel values with the dimensions [pixels][width][height]."
   ]
  },
  {
   "cell_type": "code",
   "execution_count": 5,
   "metadata": {
    "collapsed": true
   },
   "outputs": [],
   "source": [
    "(X_train, y_train), (X_test, y_test) = mnist.load_data()\n",
    "# reshape to be [samples][pixels][width][height]\n",
    "X_train = X_train.reshape(X_train.shape[0], 1, 28, 28).astype('float32')\n",
    "X_test = X_test.reshape(X_test.shape[0], 1, 28, 28).astype('float32')"
   ]
  },
  {
   "cell_type": "code",
   "execution_count": 6,
   "metadata": {
    "collapsed": true
   },
   "outputs": [],
   "source": [
    "# normalize inputs from 0-255 to 0-1\n",
    "X_train = X_train / 255\n",
    "X_test = X_test / 255\n",
    "# one hot encode outputs\n",
    "y_train = np_utils.to_categorical(y_train)\n",
    "y_test = np_utils.to_categorical(y_test)\n",
    "num_classes = y_test.shape[1]"
   ]
  },
  {
   "cell_type": "code",
   "execution_count": 12,
   "metadata": {
    "collapsed": true
   },
   "outputs": [],
   "source": [
    "def cnn_model():\n",
    "    model = Sequential()\n",
    "    model.add(Convolution2D(\n",
    "        32, 10, 10, \n",
    "        border_mode='valid',\n",
    "        input_shape=(1, 28,28)))\n",
    "    model.add(MaxPooling2D(pool_size=(2,2)))\n",
    "    model.add(Dropout(0.2))\n",
    "    model.add(Flatten())\n",
    "    model.add(Dense(128, activation='relu'))\n",
    "    model.add(Dense(40, activation='relu'))\n",
    "\n",
    "    model.add(Dense(num_classes, activation='softmax'))\n",
    "    \n",
    "    model.compile(\n",
    "        loss='categorical_crossentropy',\n",
    "        optimizer = 'adam',\n",
    "        metrics=['accuracy'])\n",
    "    \n",
    "    return model"
   ]
  },
  {
   "cell_type": "code",
   "execution_count": 13,
   "metadata": {
    "collapsed": false
   },
   "outputs": [
    {
     "name": "stdout",
     "output_type": "stream",
     "text": [
      "Train on 60000 samples, validate on 10000 samples\n",
      "Epoch 1/10\n",
      "39s - loss: 0.2950 - acc: 0.9134 - val_loss: 0.1001 - val_acc: 0.9687\n",
      "Epoch 2/10\n",
      "37s - loss: 0.0963 - acc: 0.9713 - val_loss: 0.0704 - val_acc: 0.9777\n",
      "Epoch 3/10\n",
      "34s - loss: 0.0695 - acc: 0.9784 - val_loss: 0.0581 - val_acc: 0.9814\n",
      "Epoch 4/10\n",
      "35s - loss: 0.0541 - acc: 0.9830 - val_loss: 0.0548 - val_acc: 0.9817\n",
      "Epoch 5/10\n",
      "35s - loss: 0.0432 - acc: 0.9863 - val_loss: 0.0561 - val_acc: 0.9823\n",
      "Epoch 6/10\n",
      "38s - loss: 0.0354 - acc: 0.9888 - val_loss: 0.0505 - val_acc: 0.9855\n",
      "Epoch 7/10\n",
      "34s - loss: 0.0295 - acc: 0.9905 - val_loss: 0.0521 - val_acc: 0.9844\n",
      "Epoch 8/10\n",
      "34s - loss: 0.0243 - acc: 0.9921 - val_loss: 0.0478 - val_acc: 0.9858\n",
      "Epoch 9/10\n",
      "34s - loss: 0.0225 - acc: 0.9924 - val_loss: 0.0581 - val_acc: 0.9828\n",
      "Epoch 10/10\n",
      "34s - loss: 0.0197 - acc: 0.9932 - val_loss: 0.0502 - val_acc: 0.9846\n",
      "CNN Error: 1.54%\n"
     ]
    }
   ],
   "source": [
    "# build the model\n",
    "model = cnn_model()\n",
    "# Fit the model\n",
    "model.fit(X_train, y_train, validation_data=(X_test, y_test), nb_epoch=10, batch_size=200, verbose=2)\n",
    "# Final evaluation of the model\n",
    "scores = model.evaluate(X_test, y_test, verbose=0)\n",
    "print(\"CNN Error: %.2f%%\" % (100-scores[1]*100))"
   ]
  },
  {
   "cell_type": "code",
   "execution_count": 14,
   "metadata": {
    "collapsed": false
   },
   "outputs": [],
   "source": [
    "def cnn_model_jh():\n",
    "    model = Sequential()\n",
    "    #First convolutional filter\n",
    "    model.add(Convolution2D(\n",
    "        32, 10, 10,\n",
    "        border_mode='valid',\n",
    "        input_shape=(1, 28,28)))\n",
    "    model.add(MaxPooling2D(pool_size=(2,2)))\n",
    "    \n",
    "    model.add(Dropout(0.2))\n",
    "    model.add(Flatten())\n",
    "    \n",
    "    model.add(Dense(128, activation='relu'))\n",
    "    model.add(Dense(num_classes, activation='softmax'))\n",
    "\n",
    "    model.compile(\n",
    "        loss='categorical_crossentropy',\n",
    "        optimizer = 'adam',\n",
    "        metrics=['accuracy'])\n",
    "\n",
    "    return model"
   ]
  },
  {
   "cell_type": "code",
   "execution_count": 15,
   "metadata": {
    "collapsed": false
   },
   "outputs": [
    {
     "name": "stdout",
     "output_type": "stream",
     "text": [
      "Train on 60000 samples, validate on 10000 samples\n",
      "Epoch 1/16\n",
      "45s - loss: 0.1824 - acc: 0.9455 - val_loss: 0.0745 - val_acc: 0.9771\n",
      "Epoch 2/16\n",
      "66s - loss: 0.0760 - acc: 0.9767 - val_loss: 0.0596 - val_acc: 0.9821\n",
      "Epoch 3/16\n",
      "60s - loss: 0.0545 - acc: 0.9830 - val_loss: 0.0600 - val_acc: 0.9823\n",
      "Epoch 4/16\n",
      "60s - loss: 0.0435 - acc: 0.9865 - val_loss: 0.0473 - val_acc: 0.9864\n",
      "Epoch 5/16\n",
      "60s - loss: 0.0340 - acc: 0.9894 - val_loss: 0.0550 - val_acc: 0.9844\n",
      "Epoch 6/16\n",
      "59s - loss: 0.0296 - acc: 0.9902 - val_loss: 0.0556 - val_acc: 0.9850\n",
      "Epoch 7/16\n",
      "60s - loss: 0.0269 - acc: 0.9915 - val_loss: 0.0728 - val_acc: 0.9818\n",
      "Epoch 8/16\n",
      "60s - loss: 0.0257 - acc: 0.9918 - val_loss: 0.0706 - val_acc: 0.9826\n",
      "Epoch 9/16\n",
      "59s - loss: 0.0227 - acc: 0.9926 - val_loss: 0.0727 - val_acc: 0.9843\n",
      "Epoch 10/16\n",
      "61s - loss: 0.0194 - acc: 0.9939 - val_loss: 0.0612 - val_acc: 0.9862\n",
      "Epoch 11/16\n",
      "65s - loss: 0.0197 - acc: 0.9936 - val_loss: 0.0857 - val_acc: 0.9824\n",
      "Epoch 12/16\n",
      "63s - loss: 0.0187 - acc: 0.9940 - val_loss: 0.0736 - val_acc: 0.9842\n",
      "Epoch 13/16\n",
      "61s - loss: 0.0183 - acc: 0.9944 - val_loss: 0.0860 - val_acc: 0.9838\n",
      "Epoch 14/16\n",
      "62s - loss: 0.0200 - acc: 0.9941 - val_loss: 0.0856 - val_acc: 0.9867\n",
      "Epoch 15/16\n",
      "61s - loss: 0.0159 - acc: 0.9955 - val_loss: 0.0826 - val_acc: 0.9851\n",
      "Epoch 16/16\n",
      "54s - loss: 0.0144 - acc: 0.9957 - val_loss: 0.0822 - val_acc: 0.9843\n",
      "Improved CNN Error: 1.57%\n"
     ]
    }
   ],
   "source": [
    "# build the model\n",
    "model_jh = cnn_model_jh()\n",
    "\n",
    "# Fit the model\n",
    "model_jh.fit(\n",
    "    X_train, y_train,\n",
    "    validation_data=(X_test, y_test),\n",
    "    nb_epoch=16, batch_size=50, verbose=2)\n",
    "\n",
    "# Final evaluation of the model\n",
    "scores = model_jh.evaluate(X_test, y_test, verbose=0)\n",
    "print(\"Improved CNN Error: %.2f%%\" % (100-scores[1]*100))"
   ]
  },
  {
   "cell_type": "markdown",
   "metadata": {},
   "source": [
    "16 epochs, 200 batch size - 1.39%  \n",
    "10 epochs, 10 x 10 size - 1.38%  \n",
    "10 epochs, 20 x 20 size - 1.85%  \n",
    "two conv layers, 10 x 10 and 3 x 3 - 2.16%\n",
    "two conv layers, 10 x 10 and 8 x 8 - 1.79%\n",
    "10 x 10, Dropout = 0.8"
   ]
  },
  {
   "cell_type": "code",
   "execution_count": null,
   "metadata": {
    "collapsed": true
   },
   "outputs": [],
   "source": []
  }
 ],
 "metadata": {
  "anaconda-cloud": {},
  "kernelspec": {
   "display_name": "Python [default]",
   "language": "python",
   "name": "python2"
  },
  "language_info": {
   "codemirror_mode": {
    "name": "ipython",
    "version": 2
   },
   "file_extension": ".py",
   "mimetype": "text/x-python",
   "name": "python",
   "nbconvert_exporter": "python",
   "pygments_lexer": "ipython2",
   "version": "2.7.12"
  }
 },
 "nbformat": 4,
 "nbformat_minor": 1
}
