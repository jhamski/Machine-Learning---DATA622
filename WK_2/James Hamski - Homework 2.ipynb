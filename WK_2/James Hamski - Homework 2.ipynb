{
 "cells": [
  {
   "cell_type": "markdown",
   "metadata": {},
   "source": [
    "# Homework 2\n",
    "## James Hamski\n",
    "*Problem:\n",
    "Approximate the function z = 2x^2 - 3y^2 + 1 (no noise). Train the network using the following two loss functions: mean absolute value, mean squared error. What is the difference in performance on your test set? How numerically stable are these results?*"
   ]
  },
  {
   "cell_type": "code",
   "execution_count": 1,
   "metadata": {
    "collapsed": false
   },
   "outputs": [
    {
     "name": "stderr",
     "output_type": "stream",
     "text": [
      "Using Theano backend.\n"
     ]
    }
   ],
   "source": [
    "import numpy as np\n",
    "from keras.models import Sequential\n",
    "from keras.layers import Dense, Dropout, Activation\n",
    "from keras.optimizers import SGD, adam\n",
    "\n",
    "\n",
    "import matplotlib.pyplot as plt"
   ]
  },
  {
   "cell_type": "code",
   "execution_count": 2,
   "metadata": {
    "collapsed": false
   },
   "outputs": [
    {
     "name": "stdout",
     "output_type": "stream",
     "text": [
      "Populating the interactive namespace from numpy and matplotlib\n"
     ]
    }
   ],
   "source": [
    "%pylab inline"
   ]
  },
  {
   "cell_type": "markdown",
   "metadata": {},
   "source": [
    "## Training Set Generation"
   ]
  },
  {
   "cell_type": "code",
   "execution_count": 3,
   "metadata": {
    "collapsed": true
   },
   "outputs": [],
   "source": [
    "# create an XY grid from -10 to 10 at 0.1 increments, calculate Z using the polynomial\n",
    "\n",
    "xy_range = np.arange(-10, 10.1, 0.1)\n",
    "\n",
    "X = np.repeat(xy_range, len(xy_range))\n",
    "Y = np.tile(xy_range, len(xy_range))\n",
    "Z = 2 * (X **2) - 3 * (Y**2) + 1\n",
    "\n",
    "XY_data = np.vstack((X,Y)).T"
   ]
  },
  {
   "cell_type": "markdown",
   "metadata": {},
   "source": [
    "## Function Approximation - Mean Absolute Error Loss Function"
   ]
  },
  {
   "cell_type": "code",
   "execution_count": 4,
   "metadata": {
    "collapsed": false
   },
   "outputs": [],
   "source": [
    "sgd = SGD(lr=0.5)"
   ]
  },
  {
   "cell_type": "code",
   "execution_count": 5,
   "metadata": {
    "collapsed": false
   },
   "outputs": [
    {
     "name": "stdout",
     "output_type": "stream",
     "text": [
      "Epoch 1/80\n",
      "1s - loss: 67.2968\n",
      "Epoch 2/80\n",
      "2s - loss: 23.8301\n",
      "Epoch 3/80\n",
      "1s - loss: 17.1870\n",
      "Epoch 4/80\n",
      "1s - loss: 14.6233\n",
      "Epoch 5/80\n",
      "1s - loss: 13.2284\n",
      "Epoch 6/80\n",
      "1s - loss: 11.9523\n",
      "Epoch 7/80\n",
      "1s - loss: 11.0272\n",
      "Epoch 8/80\n",
      "1s - loss: 10.3301\n",
      "Epoch 9/80\n",
      "1s - loss: 9.8350\n",
      "Epoch 10/80\n",
      "1s - loss: 9.4003\n",
      "Epoch 11/80\n",
      "1s - loss: 9.2228\n",
      "Epoch 12/80\n",
      "1s - loss: 9.0955\n",
      "Epoch 13/80\n",
      "1s - loss: 8.6388\n",
      "Epoch 14/80\n",
      "1s - loss: 8.3308\n",
      "Epoch 15/80\n",
      "1s - loss: 8.3393\n",
      "Epoch 16/80\n",
      "1s - loss: 8.1365\n",
      "Epoch 17/80\n",
      "1s - loss: 7.8935\n",
      "Epoch 18/80\n",
      "1s - loss: 7.6691\n",
      "Epoch 19/80\n",
      "1s - loss: 7.4482\n",
      "Epoch 20/80\n",
      "1s - loss: 7.3811\n",
      "Epoch 21/80\n",
      "1s - loss: 7.2760\n",
      "Epoch 22/80\n",
      "1s - loss: 7.2058\n",
      "Epoch 23/80\n",
      "1s - loss: 7.0468\n",
      "Epoch 24/80\n",
      "1s - loss: 6.9931\n",
      "Epoch 25/80\n",
      "2s - loss: 6.8387\n",
      "Epoch 26/80\n",
      "1s - loss: 6.8544\n",
      "Epoch 27/80\n",
      "1s - loss: 6.7728\n",
      "Epoch 28/80\n",
      "1s - loss: 6.6346\n",
      "Epoch 29/80\n",
      "1s - loss: 6.5059\n",
      "Epoch 30/80\n",
      "1s - loss: 6.5416\n",
      "Epoch 31/80\n",
      "1s - loss: 6.3463\n",
      "Epoch 32/80\n",
      "1s - loss: 6.3218\n",
      "Epoch 33/80\n",
      "1s - loss: 6.3713\n",
      "Epoch 34/80\n",
      "1s - loss: 6.3209\n",
      "Epoch 35/80\n",
      "1s - loss: 6.2220\n",
      "Epoch 36/80\n",
      "1s - loss: 6.2185\n",
      "Epoch 37/80\n",
      "1s - loss: 6.1791\n",
      "Epoch 38/80\n",
      "1s - loss: 6.1485\n",
      "Epoch 39/80\n",
      "1s - loss: 6.1218\n",
      "Epoch 40/80\n",
      "1s - loss: 6.0453\n",
      "Epoch 41/80\n",
      "1s - loss: 5.9632\n",
      "Epoch 42/80\n",
      "1s - loss: 5.9472\n",
      "Epoch 43/80\n",
      "1s - loss: 5.8844\n",
      "Epoch 44/80\n",
      "1s - loss: 5.7971\n",
      "Epoch 45/80\n",
      "1s - loss: 5.8155\n",
      "Epoch 46/80\n",
      "2s - loss: 5.7897\n",
      "Epoch 47/80\n",
      "1s - loss: 5.7059\n",
      "Epoch 48/80\n",
      "1s - loss: 5.7288\n",
      "Epoch 49/80\n",
      "1s - loss: 5.6459\n",
      "Epoch 50/80\n",
      "1s - loss: 5.6185\n",
      "Epoch 51/80\n",
      "1s - loss: 6.4661\n",
      "Epoch 52/80\n",
      "1s - loss: 5.9680\n",
      "Epoch 53/80\n",
      "1s - loss: 5.8824\n",
      "Epoch 54/80\n",
      "1s - loss: 5.8544\n",
      "Epoch 55/80\n",
      "1s - loss: 5.8187\n",
      "Epoch 56/80\n",
      "1s - loss: 5.7502\n",
      "Epoch 57/80\n",
      "1s - loss: 5.6679\n",
      "Epoch 58/80\n",
      "1s - loss: 5.6241\n",
      "Epoch 59/80\n",
      "1s - loss: 5.5593\n",
      "Epoch 60/80\n",
      "1s - loss: 5.5653\n",
      "Epoch 61/80\n",
      "1s - loss: 5.5398\n",
      "Epoch 62/80\n",
      "1s - loss: 5.5045\n",
      "Epoch 63/80\n",
      "1s - loss: 5.4285\n",
      "Epoch 64/80\n",
      "2s - loss: 5.4104\n",
      "Epoch 65/80\n",
      "1s - loss: 5.3562\n",
      "Epoch 66/80\n",
      "1s - loss: 5.2980\n",
      "Epoch 67/80\n",
      "1s - loss: 5.2877\n",
      "Epoch 68/80\n",
      "1s - loss: 5.3380\n",
      "Epoch 69/80\n",
      "2s - loss: 5.2209\n",
      "Epoch 70/80\n",
      "2s - loss: 5.2012\n",
      "Epoch 71/80\n",
      "1s - loss: 5.2038\n",
      "Epoch 72/80\n",
      "1s - loss: 5.2273\n",
      "Epoch 73/80\n",
      "2s - loss: 5.1567\n",
      "Epoch 74/80\n",
      "2s - loss: 5.1265\n",
      "Epoch 75/80\n",
      "2s - loss: 5.1239\n",
      "Epoch 76/80\n",
      "2s - loss: 5.1141\n",
      "Epoch 77/80\n",
      "1s - loss: 5.0535\n",
      "Epoch 78/80\n",
      "1s - loss: 4.9976\n",
      "Epoch 79/80\n",
      "1s - loss: 4.9926\n",
      "Epoch 80/80\n",
      "1s - loss: 5.0839\n"
     ]
    },
    {
     "data": {
      "text/plain": [
       "<keras.callbacks.History at 0x7f353db53510>"
      ]
     },
     "execution_count": 5,
     "metadata": {},
     "output_type": "execute_result"
    }
   ],
   "source": [
    "model = Sequential()\n",
    "model.add(Dense(100, input_dim=2))\n",
    "model.add(Activation('tanh'))\n",
    "model.add(Dense(1))\n",
    "model.compile(loss='mean_absolute_error', optimizer='sgd')\n",
    "\n",
    "model.fit(XY_data, Z, nb_epoch=80, batch_size=10, verbose=2)"
   ]
  },
  {
   "cell_type": "code",
   "execution_count": null,
   "metadata": {
    "collapsed": false
   },
   "outputs": [],
   "source": [
    "score = model.evaluate(XY_data, Z, batch_size=16, verbose=2)"
   ]
  },
  {
   "cell_type": "code",
   "execution_count": null,
   "metadata": {
    "collapsed": false
   },
   "outputs": [],
   "source": [
    "score"
   ]
  },
  {
   "cell_type": "code",
   "execution_count": null,
   "metadata": {
    "collapsed": false
   },
   "outputs": [],
   "source": [
    "plt.plot(Z)"
   ]
  },
  {
   "cell_type": "code",
   "execution_count": 6,
   "metadata": {
    "collapsed": false,
    "scrolled": true
   },
   "outputs": [
    {
     "data": {
      "text/plain": [
       "[<matplotlib.lines.Line2D at 0x7f3538addc10>]"
      ]
     },
     "execution_count": 6,
     "metadata": {},
     "output_type": "execute_result"
    },
    {
     "data": {
      "image/png": "[encoded data removed]",
      "text/plain": [
       "<matplotlib.figure.Figure at 0x7f353dd7c790>"
      ]
     },
     "metadata": {},
     "output_type": "display_data"
    }
   ],
   "source": [
    "pred_z = model.predict(XY_data, batch_size=100)\n",
    "plt.plot(pred_z)"
   ]
  },
  {
   "cell_type": "code",
   "execution_count": 7,
   "metadata": {
    "collapsed": false
   },
   "outputs": [
    {
     "ename": "MemoryError",
     "evalue": "",
     "output_type": "error",
     "traceback": [
      "\u001b[1;31m---------------------------------------------------------------------------\u001b[0m",
      "\u001b[1;31mMemoryError\u001b[0m                               Traceback (most recent call last)",
      "\u001b[1;32m<ipython-input-7-26c3c8f167fd>\u001b[0m in \u001b[0;36m<module>\u001b[1;34m()\u001b[0m\n\u001b[1;32m----> 1\u001b[1;33m \u001b[0merror_surface\u001b[0m \u001b[1;33m=\u001b[0m \u001b[0mZ\u001b[0m \u001b[1;33m-\u001b[0m \u001b[0mpred_z\u001b[0m\u001b[1;33m\u001b[0m\u001b[0m\n\u001b[0m",
      "\u001b[1;31mMemoryError\u001b[0m: "
     ]
    }
   ],
   "source": [
    "error_surface = Z - pred_z"
   ]
  },
  {
   "cell_type": "markdown",
   "metadata": {},
   "source": [
    "## Function Approximation - Mean Square Error Loss Function"
   ]
  },
  {
   "cell_type": "code",
   "execution_count": 8,
   "metadata": {
    "collapsed": false
   },
   "outputs": [
    {
     "name": "stdout",
     "output_type": "stream",
     "text": [
      "Epoch 1/80\n",
      "2s - loss: 5963.5069\n",
      "Epoch 2/80\n",
      "3s - loss: 2079.6204\n",
      "Epoch 3/80\n",
      "3s - loss: 1127.8443\n",
      "Epoch 4/80\n",
      "3s - loss: 613.8233\n",
      "Epoch 5/80\n",
      "3s - loss: 336.2024\n",
      "Epoch 6/80\n",
      "3s - loss: 178.2778\n",
      "Epoch 7/80\n",
      "3s - loss: 95.9344\n",
      "Epoch 8/80\n",
      "3s - loss: 53.7803\n",
      "Epoch 9/80\n",
      "3s - loss: 32.9444\n",
      "Epoch 10/80\n",
      "3s - loss: 22.6245\n",
      "Epoch 11/80\n",
      "3s - loss: 17.2311\n",
      "Epoch 12/80\n",
      "3s - loss: 14.1712\n",
      "Epoch 13/80\n",
      "4s - loss: 12.5379\n",
      "Epoch 14/80\n",
      "3s - loss: 11.4418\n",
      "Epoch 15/80\n",
      "3s - loss: 10.7458\n",
      "Epoch 16/80\n",
      "3s - loss: 10.1144\n",
      "Epoch 17/80\n",
      "3s - loss: 9.6947\n",
      "Epoch 18/80\n",
      "3s - loss: 9.3434\n",
      "Epoch 19/80\n",
      "3s - loss: 9.1015\n",
      "Epoch 20/80\n",
      "3s - loss: 8.9290\n",
      "Epoch 21/80\n",
      "3s - loss: 8.6356\n",
      "Epoch 22/80\n",
      "3s - loss: 8.4155\n",
      "Epoch 23/80\n",
      "3s - loss: 8.1555\n",
      "Epoch 24/80\n",
      "3s - loss: 8.0002\n",
      "Epoch 25/80\n",
      "3s - loss: 7.8770\n",
      "Epoch 26/80\n",
      "3s - loss: 7.8355\n",
      "Epoch 27/80\n",
      "3s - loss: 7.6200\n",
      "Epoch 28/80\n",
      "5s - loss: 7.5005\n",
      "Epoch 29/80\n",
      "10s - loss: 7.4126\n",
      "Epoch 30/80\n",
      "4s - loss: 7.2059\n",
      "Epoch 31/80\n",
      "9s - loss: 7.1182\n",
      "Epoch 32/80\n",
      "6s - loss: 7.0782\n",
      "Epoch 33/80\n",
      "3s - loss: 6.9053\n",
      "Epoch 34/80\n",
      "4s - loss: 6.8089\n",
      "Epoch 35/80\n",
      "3s - loss: 6.6576\n",
      "Epoch 36/80\n",
      "3s - loss: 6.6171\n",
      "Epoch 37/80\n",
      "3s - loss: 6.5125\n",
      "Epoch 38/80\n",
      "3s - loss: 6.5151\n",
      "Epoch 39/80\n",
      "3s - loss: 6.4618\n",
      "Epoch 40/80\n",
      "3s - loss: 6.4184\n",
      "Epoch 41/80\n",
      "3s - loss: 6.3057\n",
      "Epoch 42/80\n",
      "3s - loss: 6.2590\n",
      "Epoch 43/80\n",
      "3s - loss: 6.2238\n",
      "Epoch 44/80\n",
      "3s - loss: 6.1903\n",
      "Epoch 45/80\n",
      "4s - loss: 6.0823\n",
      "Epoch 46/80\n",
      "5s - loss: 6.0491\n",
      "Epoch 47/80\n",
      "3s - loss: 5.9754\n",
      "Epoch 48/80\n",
      "3s - loss: 5.9479\n",
      "Epoch 49/80\n",
      "3s - loss: 5.8762\n",
      "Epoch 50/80\n",
      "3s - loss: 5.8549\n",
      "Epoch 51/80\n",
      "3s - loss: 5.8254\n",
      "Epoch 52/80\n",
      "3s - loss: 5.8275\n",
      "Epoch 53/80\n",
      "3s - loss: 5.7077\n",
      "Epoch 54/80\n",
      "4s - loss: 5.7197\n",
      "Epoch 55/80\n",
      "3s - loss: 5.6600\n",
      "Epoch 56/80\n",
      "3s - loss: 5.5391\n",
      "Epoch 57/80\n",
      "3s - loss: 5.5998\n",
      "Epoch 58/80\n",
      "3s - loss: 5.5847\n",
      "Epoch 59/80\n",
      "4s - loss: 5.5281\n",
      "Epoch 60/80\n",
      "3s - loss: 5.4946\n",
      "Epoch 61/80\n",
      "3s - loss: 5.4375\n",
      "Epoch 62/80\n",
      "3s - loss: 5.4278\n",
      "Epoch 63/80\n",
      "3s - loss: 5.3813\n",
      "Epoch 64/80\n",
      "3s - loss: 5.3749\n",
      "Epoch 65/80\n",
      "3s - loss: 5.3819\n",
      "Epoch 66/80\n",
      "3s - loss: 5.3814\n",
      "Epoch 67/80\n",
      "3s - loss: 5.2694\n",
      "Epoch 68/80\n",
      "3s - loss: 5.2369\n",
      "Epoch 69/80\n",
      "3s - loss: 5.2199\n",
      "Epoch 70/80\n",
      "5s - loss: 5.1774\n",
      "Epoch 71/80\n",
      "5s - loss: 5.1986\n",
      "Epoch 72/80\n",
      "6s - loss: 5.0781\n",
      "Epoch 73/80\n",
      "5s - loss: 5.1167\n",
      "Epoch 74/80\n",
      "4s - loss: 5.0853\n",
      "Epoch 75/80\n",
      "3s - loss: 5.0567\n",
      "Epoch 76/80\n",
      "5s - loss: 5.0266\n",
      "Epoch 77/80\n",
      "4s - loss: 5.0296\n",
      "Epoch 78/80\n",
      "4s - loss: 4.9437\n",
      "Epoch 79/80\n",
      "4s - loss: 4.9427\n",
      "Epoch 80/80\n",
      "3s - loss: 4.9365\n"
     ]
    },
    {
     "data": {
      "text/plain": [
       "<keras.callbacks.History at 0x7f35345a3790>"
      ]
     },
     "execution_count": 8,
     "metadata": {},
     "output_type": "execute_result"
    }
   ],
   "source": [
    "model_mse = Sequential()\n",
    "model_mse.add(Dense(150, input_dim=2))\n",
    "model_mse.add(Activation('tanh'))\n",
    "model_mse.add(Dense(80))\n",
    "model_mse.add(Activation('tanh'))\n",
    "model_mse.add(Dense(1))\n",
    "model_mse.compile(loss='mean_squared_error', optimizer='rmsprop')\n",
    "\n",
    "model_mse.fit(XY_data, Z, nb_epoch=80, batch_size=10, verbose=2)"
   ]
  },
  {
   "cell_type": "code",
   "execution_count": 9,
   "metadata": {
    "collapsed": true
   },
   "outputs": [],
   "source": [
    "score_mse = model.evaluate(XY_data, Z, batch_size=16, verbose=2)"
   ]
  },
  {
   "cell_type": "code",
   "execution_count": 10,
   "metadata": {
    "collapsed": false
   },
   "outputs": [
    {
     "data": {
      "text/plain": [
       "6.362889884730996"
      ]
     },
     "execution_count": 10,
     "metadata": {},
     "output_type": "execute_result"
    }
   ],
   "source": [
    "score_mse"
   ]
  },
  {
   "cell_type": "code",
   "execution_count": 11,
   "metadata": {
    "collapsed": false
   },
   "outputs": [
    {
     "data": {
      "text/plain": [
       "[<matplotlib.lines.Line2D at 0x7f353407b410>]"
      ]
     },
     "execution_count": 11,
     "metadata": {},
     "output_type": "execute_result"
    },
    {
     "data": {
      "image/png": "[encoded data removed]",
      "text/plain": [
       "<matplotlib.figure.Figure at 0x7f35345bc310>"
      ]
     },
     "metadata": {},
     "output_type": "display_data"
    }
   ],
   "source": [
    "pred_z_mse = model_mse.predict(XY_data, batch_size=100)\n",
    "plt.plot(pred_z_mse)"
   ]
  },
  {
   "cell_type": "code",
   "execution_count": null,
   "metadata": {
    "collapsed": false
   },
   "outputs": [],
   "source": []
  },
  {
   "cell_type": "markdown",
   "metadata": {},
   "source": [
    "## Discussion"
   ]
  },
  {
   "cell_type": "markdown",
   "metadata": {},
   "source": []
  }
 ],
 "metadata": {
  "kernelspec": {
   "display_name": "Python 2",
   "language": "python",
   "name": "python2"
  },
  "language_info": {
   "codemirror_mode": {
    "name": "ipython",
    "version": 2
   },
   "file_extension": ".py",
   "mimetype": "text/x-python",
   "name": "python",
   "nbconvert_exporter": "python",
   "pygments_lexer": "ipython2",
   "version": "2.7.6"
  }
 },
 "nbformat": 4,
 "nbformat_minor": 0
}
