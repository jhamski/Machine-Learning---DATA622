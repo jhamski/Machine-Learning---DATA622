{
 "cells": [
  {
   "cell_type": "markdown",
   "metadata": {},
   "source": [
    "# Homework 2\n",
    "## James Hamski\n",
    "*Problem:\n",
    "Approximate the function z = 2x^2 - 3y^2 + 1 (no noise). Train the network using the following two loss functions: mean absolute value, mean squared error. What is the difference in performance on your test set? How numerically stable are these results?*"
   ]
  },
  {
   "cell_type": "code",
   "execution_count": 1,
   "metadata": {
    "collapsed": false
   },
   "outputs": [
    {
     "name": "stderr",
     "output_type": "stream",
     "text": [
      "Using Theano backend.\n"
     ]
    }
   ],
   "source": [
    "import numpy as np\n",
    "from keras.models import Sequential\n",
    "from keras.layers import Dense, Dropout, Activation\n",
    "from keras.optimizers import SGD, adam\n",
    "\n",
    "\n",
    "import matplotlib.pyplot as plt"
   ]
  },
  {
   "cell_type": "code",
   "execution_count": 2,
   "metadata": {
    "collapsed": false
   },
   "outputs": [
    {
     "name": "stdout",
     "output_type": "stream",
     "text": [
      "Populating the interactive namespace from numpy and matplotlib\n"
     ]
    }
   ],
   "source": [
    "%pylab inline"
   ]
  },
  {
   "cell_type": "markdown",
   "metadata": {},
   "source": [
    "## Training Set Generation"
   ]
  },
  {
   "cell_type": "code",
   "execution_count": 3,
   "metadata": {
    "collapsed": true
   },
   "outputs": [],
   "source": [
    "# create an XY grid from -10 to 10 at 0.1 increments, calculate Z using the polynomial\n",
    "\n",
    "xy_range = np.arange(-10, 10.1, 0.1)\n",
    "\n",
    "X = np.repeat(xy_range, len(xy_range))\n",
    "Y = np.tile(xy_range, len(xy_range))\n",
    "Z = 2 * (X **2) - 3 * (Y**2) + 1\n",
    "\n",
    "XY_data = np.vstack((X,Y)).T"
   ]
  },
  {
   "cell_type": "markdown",
   "metadata": {},
   "source": [
    "## Function Approximation - Mean Absolute Error Loss Function"
   ]
  },
  {
   "cell_type": "code",
   "execution_count": 4,
   "metadata": {
    "collapsed": false
   },
   "outputs": [],
   "source": [
    "sgd = SGD(lr=0.5)"
   ]
  },
  {
   "cell_type": "code",
   "execution_count": 5,
   "metadata": {
    "collapsed": false
   },
   "outputs": [
    {
     "name": "stdout",
     "output_type": "stream",
     "text": [
      "Epoch 1/80\n",
      "1s - loss: 65.0921\n",
      "Epoch 2/80\n",
      "1s - loss: 23.1096\n",
      "Epoch 3/80\n",
      "1s - loss: 16.9601\n",
      "Epoch 4/80\n",
      "2s - loss: 14.2495\n",
      "Epoch 5/80\n",
      "1s - loss: 12.7516\n",
      "Epoch 6/80\n",
      "1s - loss: 11.6432\n",
      "Epoch 7/80\n",
      "1s - loss: 10.8507\n",
      "Epoch 8/80\n",
      "1s - loss: 10.3206\n",
      "Epoch 9/80\n",
      "1s - loss: 9.7871\n",
      "Epoch 10/80\n",
      "2s - loss: 9.4723\n",
      "Epoch 11/80\n",
      "2s - loss: 9.1007\n",
      "Epoch 12/80\n",
      "2s - loss: 9.5954\n",
      "Epoch 13/80\n",
      "1s - loss: 8.9078\n",
      "Epoch 14/80\n",
      "1s - loss: 8.6218\n",
      "Epoch 15/80\n",
      "1s - loss: 8.2572\n",
      "Epoch 16/80\n",
      "1s - loss: 8.1590\n",
      "Epoch 17/80\n",
      "1s - loss: 7.7642\n",
      "Epoch 18/80\n",
      "1s - loss: 7.6134\n",
      "Epoch 19/80\n",
      "1s - loss: 7.5571\n",
      "Epoch 20/80\n",
      "1s - loss: 7.3417\n",
      "Epoch 21/80\n",
      "1s - loss: 7.1937\n",
      "Epoch 22/80\n",
      "1s - loss: 7.0694\n",
      "Epoch 23/80\n",
      "1s - loss: 6.9195\n",
      "Epoch 24/80\n",
      "3s - loss: 6.8655\n",
      "Epoch 25/80\n",
      "3s - loss: 6.7638\n",
      "Epoch 26/80\n",
      "2s - loss: 6.7150\n",
      "Epoch 27/80\n",
      "2s - loss: 6.5010\n",
      "Epoch 28/80\n",
      "3s - loss: 6.4973\n",
      "Epoch 29/80\n",
      "1s - loss: 6.3803\n",
      "Epoch 30/80\n",
      "1s - loss: 6.3109\n",
      "Epoch 31/80\n",
      "1s - loss: 6.3702\n",
      "Epoch 32/80\n",
      "1s - loss: 6.2613\n",
      "Epoch 33/80\n",
      "1s - loss: 6.1832\n",
      "Epoch 34/80\n",
      "1s - loss: 6.1581\n",
      "Epoch 35/80\n",
      "1s - loss: 6.0578\n",
      "Epoch 36/80\n",
      "1s - loss: 6.0332\n",
      "Epoch 37/80\n",
      "1s - loss: 6.0483\n",
      "Epoch 38/80\n",
      "1s - loss: 5.9140\n",
      "Epoch 39/80\n",
      "1s - loss: 5.8507\n",
      "Epoch 40/80\n",
      "1s - loss: 5.7910\n",
      "Epoch 41/80\n",
      "1s - loss: 5.7447\n",
      "Epoch 42/80\n",
      "1s - loss: 5.7601\n",
      "Epoch 43/80\n",
      "1s - loss: 5.6804\n",
      "Epoch 44/80\n",
      "1s - loss: 5.6321\n",
      "Epoch 45/80\n",
      "1s - loss: 5.5072\n",
      "Epoch 46/80\n",
      "1s - loss: 5.5084\n",
      "Epoch 47/80\n",
      "1s - loss: 5.5262\n",
      "Epoch 48/80\n",
      "1s - loss: 5.4708\n",
      "Epoch 49/80\n",
      "1s - loss: 5.4328\n",
      "Epoch 50/80\n",
      "1s - loss: 5.4536\n",
      "Epoch 51/80\n",
      "1s - loss: 5.4481\n",
      "Epoch 52/80\n",
      "1s - loss: 5.3444\n",
      "Epoch 53/80\n",
      "1s - loss: 5.3108\n",
      "Epoch 54/80\n",
      "1s - loss: 5.2443\n",
      "Epoch 55/80\n",
      "1s - loss: 5.2839\n",
      "Epoch 56/80\n",
      "1s - loss: 5.2363\n",
      "Epoch 57/80\n",
      "1s - loss: 5.1661\n",
      "Epoch 58/80\n",
      "1s - loss: 5.1091\n",
      "Epoch 59/80\n",
      "1s - loss: 5.1538\n",
      "Epoch 60/80\n",
      "1s - loss: 5.0700\n",
      "Epoch 61/80\n",
      "1s - loss: 5.0463\n",
      "Epoch 62/80\n",
      "1s - loss: 5.0940\n",
      "Epoch 63/80\n",
      "1s - loss: 5.0587\n",
      "Epoch 64/80\n",
      "1s - loss: 5.0021\n",
      "Epoch 65/80\n",
      "1s - loss: 5.0710\n",
      "Epoch 66/80\n",
      "1s - loss: 4.9889\n",
      "Epoch 67/80\n",
      "1s - loss: 4.8977\n",
      "Epoch 68/80\n",
      "1s - loss: 4.9188\n",
      "Epoch 69/80\n",
      "1s - loss: 4.9361\n",
      "Epoch 70/80\n",
      "1s - loss: 4.9174\n",
      "Epoch 71/80\n",
      "1s - loss: 4.8807\n",
      "Epoch 72/80\n",
      "1s - loss: 4.8726\n",
      "Epoch 73/80\n",
      "1s - loss: 4.8296\n",
      "Epoch 74/80\n",
      "1s - loss: 4.7771\n",
      "Epoch 75/80\n",
      "1s - loss: 4.7656\n",
      "Epoch 76/80\n",
      "1s - loss: 4.8248\n",
      "Epoch 77/80\n",
      "1s - loss: 4.7491\n",
      "Epoch 78/80\n",
      "1s - loss: 4.7628\n",
      "Epoch 79/80\n",
      "1s - loss: 4.7158\n",
      "Epoch 80/80\n",
      "1s - loss: 4.7036\n"
     ]
    },
    {
     "data": {
      "text/plain": [
       "<keras.callbacks.History at 0x7f230792f4d0>"
      ]
     },
     "execution_count": 5,
     "metadata": {},
     "output_type": "execute_result"
    }
   ],
   "source": [
    "model = Sequential()\n",
    "model.add(Dense(100, input_dim=2))\n",
    "model.add(Activation('tanh'))\n",
    "model.add(Dense(1))\n",
    "model.compile(loss='mean_absolute_error', optimizer='sgd')\n",
    "\n",
    "model.fit(XY_data, Z, nb_epoch=80, batch_size=10, verbose=2)"
   ]
  },
  {
   "cell_type": "code",
   "execution_count": 6,
   "metadata": {
    "collapsed": false
   },
   "outputs": [],
   "source": [
    "score = model.evaluate(XY_data, Z, batch_size=16, verbose=2)"
   ]
  },
  {
   "cell_type": "code",
   "execution_count": 7,
   "metadata": {
    "collapsed": false
   },
   "outputs": [
    {
     "data": {
      "text/plain": [
       "4.7806583917930849"
      ]
     },
     "execution_count": 7,
     "metadata": {},
     "output_type": "execute_result"
    }
   ],
   "source": [
    "score"
   ]
  },
  {
   "cell_type": "code",
   "execution_count": 8,
   "metadata": {
    "collapsed": false
   },
   "outputs": [
    {
     "data": {
      "text/plain": [
       "[<matplotlib.lines.Line2D at 0x7f23026a4150>]"
      ]
     },
     "execution_count": 8,
     "metadata": {},
     "output_type": "execute_result"
    },
    {
     "data": {
      "image/png": "[encoded data removed]",
      "text/plain": [
       "<matplotlib.figure.Figure at 0x7f2307b52550>"
      ]
     },
     "metadata": {},
     "output_type": "display_data"
    }
   ],
   "source": [
    "plt.plot(Z)"
   ]
  },
  {
   "cell_type": "code",
   "execution_count": 9,
   "metadata": {
    "collapsed": false,
    "scrolled": true
   },
   "outputs": [
    {
     "data": {
      "text/plain": [
       "[<matplotlib.lines.Line2D at 0x7f22ff87a810>]"
      ]
     },
     "execution_count": 9,
     "metadata": {},
     "output_type": "execute_result"
    },
    {
     "data": {
      "image/png": "[encoded data removed]",
      "text/plain": [
       "<matplotlib.figure.Figure at 0x7f23026ca4d0>"
      ]
     },
     "metadata": {},
     "output_type": "display_data"
    }
   ],
   "source": [
    "pred_z = model.predict(XY_data, batch_size=100)\n",
    "plt.plot(pred_z)"
   ]
  },
  {
   "cell_type": "code",
   "execution_count": 10,
   "metadata": {
    "collapsed": false
   },
   "outputs": [],
   "source": [
    "error_surface_mae = Z - pred_z.reshape(40401,)"
   ]
  },
  {
   "cell_type": "code",
   "execution_count": 11,
   "metadata": {
    "collapsed": false
   },
   "outputs": [
    {
     "data": {
      "text/plain": [
       "[<matplotlib.lines.Line2D at 0x7f22ff7f31d0>]"
      ]
     },
     "execution_count": 11,
     "metadata": {},
     "output_type": "execute_result"
    },
    {
     "data": {
      "image/png": "[encoded data removed]",
      "text/plain": [
       "<matplotlib.figure.Figure at 0x7f22ffd10e10>"
      ]
     },
     "metadata": {},
     "output_type": "display_data"
    }
   ],
   "source": [
    "plt.plot(error_surface_mae)"
   ]
  },
  {
   "cell_type": "markdown",
   "metadata": {},
   "source": [
    "## Function Approximation - Mean Square Error Loss Function"
   ]
  },
  {
   "cell_type": "code",
   "execution_count": 12,
   "metadata": {
    "collapsed": false
   },
   "outputs": [
    {
     "name": "stdout",
     "output_type": "stream",
     "text": [
      "Epoch 1/80\n",
      "2s - loss: 5923.0974\n",
      "Epoch 2/80\n",
      "2s - loss: 2014.1966\n",
      "Epoch 3/80\n",
      "2s - loss: 1100.8038\n",
      "Epoch 4/80\n",
      "2s - loss: 558.7950\n",
      "Epoch 5/80\n",
      "3s - loss: 293.4572\n",
      "Epoch 6/80\n",
      "3s - loss: 151.0139\n",
      "Epoch 7/80\n",
      "4s - loss: 78.5470\n",
      "Epoch 8/80\n",
      "4s - loss: 43.8589\n",
      "Epoch 9/80\n",
      "4s - loss: 27.2137\n",
      "Epoch 10/80\n",
      "3s - loss: 19.3186\n",
      "Epoch 11/80\n",
      "5s - loss: 15.2687\n",
      "Epoch 12/80\n",
      "3s - loss: 13.1782\n",
      "Epoch 13/80\n",
      "3s - loss: 11.8238\n",
      "Epoch 14/80\n",
      "3s - loss: 10.8644\n",
      "Epoch 15/80\n",
      "3s - loss: 10.2691\n",
      "Epoch 16/80\n",
      "3s - loss: 9.9195\n",
      "Epoch 17/80\n",
      "3s - loss: 9.5543\n",
      "Epoch 18/80\n",
      "3s - loss: 9.2666\n",
      "Epoch 19/80\n",
      "3s - loss: 8.9063\n",
      "Epoch 20/80\n",
      "3s - loss: 8.6283\n",
      "Epoch 21/80\n",
      "3s - loss: 8.4579\n",
      "Epoch 22/80\n",
      "3s - loss: 8.3497\n",
      "Epoch 23/80\n",
      "3s - loss: 8.1089\n",
      "Epoch 24/80\n",
      "3s - loss: 7.9098\n",
      "Epoch 25/80\n",
      "3s - loss: 7.6780\n",
      "Epoch 26/80\n",
      "3s - loss: 7.5254\n",
      "Epoch 27/80\n",
      "5s - loss: 7.3811\n",
      "Epoch 28/80\n",
      "3s - loss: 7.3600\n",
      "Epoch 29/80\n",
      "3s - loss: 7.2614\n",
      "Epoch 30/80\n",
      "3s - loss: 7.1402\n",
      "Epoch 31/80\n",
      "3s - loss: 7.0506\n",
      "Epoch 32/80\n",
      "2s - loss: 6.9332\n",
      "Epoch 33/80\n",
      "3s - loss: 6.9355\n",
      "Epoch 34/80\n",
      "2s - loss: 6.8113\n",
      "Epoch 35/80\n",
      "2s - loss: 6.7641\n",
      "Epoch 36/80\n",
      "3s - loss: 6.6800\n",
      "Epoch 37/80\n",
      "3s - loss: 6.7403\n",
      "Epoch 38/80\n",
      "3s - loss: 6.6239\n",
      "Epoch 39/80\n",
      "3s - loss: 6.5195\n",
      "Epoch 40/80\n",
      "3s - loss: 6.4830\n",
      "Epoch 41/80\n",
      "3s - loss: 6.3654\n",
      "Epoch 42/80\n",
      "3s - loss: 6.2863\n",
      "Epoch 43/80\n",
      "3s - loss: 6.2283\n",
      "Epoch 44/80\n",
      "3s - loss: 6.2676\n",
      "Epoch 45/80\n",
      "3s - loss: 6.1714\n",
      "Epoch 46/80\n",
      "3s - loss: 6.1291\n",
      "Epoch 47/80\n",
      "3s - loss: 6.1007\n",
      "Epoch 48/80\n",
      "3s - loss: 6.0328\n",
      "Epoch 49/80\n",
      "3s - loss: 5.9649\n",
      "Epoch 50/80\n",
      "4s - loss: 5.9111\n",
      "Epoch 51/80\n",
      "3s - loss: 5.8900\n",
      "Epoch 52/80\n",
      "4s - loss: 5.8373\n",
      "Epoch 53/80\n",
      "3s - loss: 5.8413\n",
      "Epoch 54/80\n",
      "3s - loss: 5.8255\n",
      "Epoch 55/80\n",
      "3s - loss: 5.7917\n",
      "Epoch 56/80\n",
      "3s - loss: 5.7427\n",
      "Epoch 57/80\n",
      "2s - loss: 5.7117\n",
      "Epoch 58/80\n",
      "3s - loss: 5.6688\n",
      "Epoch 59/80\n",
      "3s - loss: 5.6810\n",
      "Epoch 60/80\n",
      "3s - loss: 5.6789\n",
      "Epoch 61/80\n",
      "3s - loss: 5.6308\n",
      "Epoch 62/80\n",
      "3s - loss: 5.6323\n",
      "Epoch 63/80\n",
      "2s - loss: 5.5927\n",
      "Epoch 64/80\n",
      "2s - loss: 5.5436\n",
      "Epoch 65/80\n",
      "3s - loss: 5.5073\n",
      "Epoch 66/80\n",
      "6s - loss: 5.5213\n",
      "Epoch 67/80\n",
      "4s - loss: 5.4412\n",
      "Epoch 68/80\n",
      "3s - loss: 5.4740\n",
      "Epoch 69/80\n",
      "3s - loss: 5.4941\n",
      "Epoch 70/80\n",
      "3s - loss: 5.4638\n",
      "Epoch 71/80\n",
      "3s - loss: 5.4872\n",
      "Epoch 72/80\n",
      "3s - loss: 5.4283\n",
      "Epoch 73/80\n",
      "3s - loss: 5.4313\n",
      "Epoch 74/80\n",
      "3s - loss: 5.4129\n",
      "Epoch 75/80\n",
      "4s - loss: 5.3966\n",
      "Epoch 76/80\n",
      "4s - loss: 5.3791\n",
      "Epoch 77/80\n",
      "4s - loss: 5.2924\n",
      "Epoch 78/80\n",
      "3s - loss: 5.2721\n",
      "Epoch 79/80\n",
      "3s - loss: 5.2505\n",
      "Epoch 80/80\n",
      "3s - loss: 5.2115\n"
     ]
    },
    {
     "data": {
      "text/plain": [
       "<keras.callbacks.History at 0x7f22fd92ce90>"
      ]
     },
     "execution_count": 12,
     "metadata": {},
     "output_type": "execute_result"
    }
   ],
   "source": [
    "model_mse = Sequential()\n",
    "model_mse.add(Dense(150, input_dim=2))\n",
    "model_mse.add(Activation('tanh'))\n",
    "model_mse.add(Dense(80))\n",
    "model_mse.add(Activation('tanh'))\n",
    "model_mse.add(Dense(1))\n",
    "model_mse.compile(loss='mean_squared_error', optimizer='rmsprop')\n",
    "\n",
    "model_mse.fit(XY_data, Z, nb_epoch=80, batch_size=10, verbose=2)"
   ]
  },
  {
   "cell_type": "code",
   "execution_count": 13,
   "metadata": {
    "collapsed": true
   },
   "outputs": [],
   "source": [
    "score_mse = model.evaluate(XY_data, Z, batch_size=16, verbose=2)"
   ]
  },
  {
   "cell_type": "code",
   "execution_count": 14,
   "metadata": {
    "collapsed": false
   },
   "outputs": [
    {
     "data": {
      "text/plain": [
       "4.7806583917930849"
      ]
     },
     "execution_count": 14,
     "metadata": {},
     "output_type": "execute_result"
    }
   ],
   "source": [
    "score_mse"
   ]
  },
  {
   "cell_type": "code",
   "execution_count": 15,
   "metadata": {
    "collapsed": false
   },
   "outputs": [
    {
     "data": {
      "text/plain": [
       "[<matplotlib.lines.Line2D at 0x7f22fd68c190>]"
      ]
     },
     "execution_count": 15,
     "metadata": {},
     "output_type": "execute_result"
    },
    {
     "data": {
      "image/png": "[encoded data removed]",
      "text/plain": [
       "<matplotlib.figure.Figure at 0x7f22ff210f50>"
      ]
     },
     "metadata": {},
     "output_type": "display_data"
    }
   ],
   "source": [
    "pred_z_mse = model_mse.predict(XY_data, batch_size=100)\n",
    "plt.plot(pred_z_mse)"
   ]
  },
  {
   "cell_type": "code",
   "execution_count": 16,
   "metadata": {
    "collapsed": false
   },
   "outputs": [],
   "source": [
    "pred_z_mse = pred_z_mse.reshape(40401,)"
   ]
  },
  {
   "cell_type": "code",
   "execution_count": 17,
   "metadata": {
    "collapsed": false
   },
   "outputs": [],
   "source": [
    "error_mse = Z - pred_z_mse"
   ]
  },
  {
   "cell_type": "code",
   "execution_count": 18,
   "metadata": {
    "collapsed": false
   },
   "outputs": [
    {
     "data": {
      "text/plain": [
       "[<matplotlib.lines.Line2D at 0x7f22fd59e150>]"
      ]
     },
     "execution_count": 18,
     "metadata": {},
     "output_type": "execute_result"
    },
    {
     "data": {
      "image/png": "[encoded data removed]",
      "text/plain": [
       "<matplotlib.figure.Figure at 0x7f22ffd1b090>"
      ]
     },
     "metadata": {},
     "output_type": "display_data"
    }
   ],
   "source": [
    "plt.plot(error_mse)"
   ]
  },
  {
   "cell_type": "markdown",
   "metadata": {},
   "source": [
    "## Discussion"
   ]
  },
  {
   "cell_type": "markdown",
   "metadata": {},
   "source": [
    "### Difference between MAE and MSE"
   ]
  },
  {
   "cell_type": "markdown",
   "metadata": {},
   "source": [
    "The simple neural networks (NN) above use different loss functions but have similar performance (as judged by their mean square errors). Differences in the structure of the models are described below.\n",
    "\n",
    "*Mean Absolute Error* \n",
    "The first model uses the mean absolute error loss function. It starts off with 100 nodes and is comprised of two layers. The stochastic gradient descent algorithm is used for optimization. The main hyperparameter I adjusted to tune the model is the number of nodes in the first layer. \n",
    "\n",
    "*Mean Square Error* \n",
    "I found that adding a third layer to the network greatly improved model fit when using the mean square error loss function. In addition, the model performed best using the RMSprop algorithm instead of gradient descent. "
   ]
  },
  {
   "cell_type": "markdown",
   "metadata": {},
   "source": [
    "### Numerical Stability"
   ]
  },
  {
   "cell_type": "markdown",
   "metadata": {},
   "source": [
    "The final forms of the models appear to be numerically stable. However, during development the adjustment of hyperparameters often resulted in extreme changes to the model. In addition, early iterations of the model with different activation functions resulted in highly skewed errors indicating poor numeric stability."
   ]
  },
  {
   "cell_type": "code",
   "execution_count": null,
   "metadata": {
    "collapsed": true
   },
   "outputs": [],
   "source": []
  }
 ],
 "metadata": {
  "kernelspec": {
   "display_name": "Python 2",
   "language": "python",
   "name": "python2"
  },
  "language_info": {
   "codemirror_mode": {
    "name": "ipython",
    "version": 2
   },
   "file_extension": ".py",
   "mimetype": "text/x-python",
   "name": "python",
   "nbconvert_exporter": "python",
   "pygments_lexer": "ipython2",
   "version": "2.7.6"
  }
 },
 "nbformat": 4,
 "nbformat_minor": 0
}
