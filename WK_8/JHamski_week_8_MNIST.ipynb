{
 "cells": [
  {
   "cell_type": "markdown",
   "metadata": {},
   "source": [
    "# Week 8 - MINST Bagging"
   ]
  },
  {
   "cell_type": "markdown",
   "metadata": {},
   "source": [
    "*Using the MNIST hand-written character dataset, use bagging to improve your method. Submit your code and a summary of the results. How much better/worse are your results?*"
   ]
  },
  {
   "cell_type": "markdown",
   "metadata": {},
   "source": [
    "### 1 MNIST character recognition without bagging\n",
    "\n",
    "This script is modified from: https://github.com/Vict0rSch/deep_learning/tree/master/keras/feedforward"
   ]
  },
  {
   "cell_type": "code",
   "execution_count": 1,
   "metadata": {
    "collapsed": false
   },
   "outputs": [
    {
     "name": "stderr",
     "output_type": "stream",
     "text": [
      "Using Theano backend.\n"
     ]
    }
   ],
   "source": [
    "import time\n",
    "import numpy as np\n",
    "from matplotlib import pyplot as plt\n",
    "from keras.utils import np_utils\n",
    "import keras.callbacks as cb\n",
    "from keras.models import Sequential\n",
    "from keras.layers.core import Dense, Dropout, Activation\n",
    "from keras.optimizers import RMSprop\n",
    "from keras.datasets import mnist"
   ]
  },
  {
   "cell_type": "code",
   "execution_count": 13,
   "metadata": {
    "collapsed": false
   },
   "outputs": [
    {
     "name": "stdout",
     "output_type": "stream",
     "text": [
      "Populating the interactive namespace from numpy and matplotlib\n"
     ]
    }
   ],
   "source": [
    "%pylab inline"
   ]
  },
  {
   "cell_type": "code",
   "execution_count": 2,
   "metadata": {
    "collapsed": true
   },
   "outputs": [],
   "source": [
    "class LossHistory(cb.Callback):\n",
    "    def on_train_begin(self, logs={}):\n",
    "        self.losses = []\n",
    "\n",
    "    def on_batch_end(self, batch, logs={}):\n",
    "        batch_loss = logs.get('loss')\n",
    "        self.losses.append(batch_loss)"
   ]
  },
  {
   "cell_type": "code",
   "execution_count": 3,
   "metadata": {
    "collapsed": true
   },
   "outputs": [],
   "source": [
    "def load_data():\n",
    "    print 'Loading data...'\n",
    "    (X_train, y_train), (X_test, y_test) = mnist.load_data()\n",
    "\n",
    "    X_train = X_train.astype('float32')\n",
    "    X_test = X_test.astype('float32')\n",
    "\n",
    "    X_train /= 255\n",
    "    X_test /= 255\n",
    "\n",
    "    y_train = np_utils.to_categorical(y_train, 10)\n",
    "    y_test = np_utils.to_categorical(y_test, 10)\n",
    "\n",
    "    X_train = np.reshape(X_train, (60000, 784))\n",
    "    X_test = np.reshape(X_test, (10000, 784))\n",
    "\n",
    "    print 'Data loaded.'\n",
    "    return [X_train, X_test, y_train, y_test]\n"
   ]
  },
  {
   "cell_type": "code",
   "execution_count": 4,
   "metadata": {
    "collapsed": true
   },
   "outputs": [],
   "source": [
    "def init_model():\n",
    "    start_time = time.time()\n",
    "    print 'Compiling Model ... '\n",
    "    model = Sequential()\n",
    "    model.add(Dense(500, input_dim=784))\n",
    "    model.add(Activation('relu'))\n",
    "    model.add(Dropout(0.4))\n",
    "    model.add(Dense(300))\n",
    "    model.add(Activation('relu'))\n",
    "    model.add(Dropout(0.4))\n",
    "    model.add(Dense(10))\n",
    "    model.add(Activation('softmax'))\n",
    "\n",
    "    rms = RMSprop()\n",
    "    model.compile(loss='categorical_crossentropy', optimizer=rms, metrics=['accuracy'])\n",
    "    print 'Model compield in {0} seconds'.format(time.time() - start_time)\n",
    "    return model"
   ]
  },
  {
   "cell_type": "code",
   "execution_count": 23,
   "metadata": {
    "collapsed": true
   },
   "outputs": [],
   "source": [
    "def run_network(data=None, model=None, epochs=20, batch=256):\n",
    "    try:\n",
    "        start_time = time.time()\n",
    "        if data is None:\n",
    "            X_train, X_test, y_train, y_test = load_data()\n",
    "        else:\n",
    "            X_train, X_test, y_train, y_test = data\n",
    "\n",
    "        if model is None:\n",
    "            model = init_model()\n",
    "\n",
    "        history = LossHistory()\n",
    "\n",
    "        print 'Training model...'\n",
    "        model.fit(X_train, y_train, nb_epoch=epochs, batch_size=batch,\n",
    "                  callbacks=[history], validation_data=(X_test, y_test), verbose=2)\n",
    "\n",
    "        print \"Training duration : {0}\".format(time.time() - start_time)\n",
    "        score = model.evaluate(X_test, y_test, batch_size=16, verbose = 0)\n",
    "\n",
    "        print \"Network's test score [loss, accuracy]: {0}\".format(score)\n",
    "        return model, history.losses\n",
    "    \n",
    "    except KeyboardInterrupt:\n",
    "        print ' KeyboardInterrupt'\n",
    "        return model, history.losses"
   ]
  },
  {
   "cell_type": "code",
   "execution_count": 24,
   "metadata": {
    "collapsed": false
   },
   "outputs": [
    {
     "name": "stdout",
     "output_type": "stream",
     "text": [
      "Loading data...\n",
      "Data loaded.\n",
      "Compiling Model ... \n",
      "Model compield in 0.254482984543 seconds\n",
      "Training model...\n",
      "Train on 60000 samples, validate on 10000 samples\n",
      "Epoch 1/20\n",
      "10s - loss: 0.3567 - acc: 0.8918 - val_loss: 0.1392 - val_acc: 0.9561\n",
      "Epoch 2/20\n",
      "9s - loss: 0.1512 - acc: 0.9540 - val_loss: 0.1036 - val_acc: 0.9684\n",
      "Epoch 3/20\n",
      "9s - loss: 0.1122 - acc: 0.9654 - val_loss: 0.0812 - val_acc: 0.9768\n",
      "Epoch 4/20\n",
      "10s - loss: 0.0927 - acc: 0.9717 - val_loss: 0.0769 - val_acc: 0.9781\n",
      "Epoch 5/20\n",
      "12s - loss: 0.0796 - acc: 0.9760 - val_loss: 0.0798 - val_acc: 0.9774\n",
      "Epoch 6/20\n",
      "10s - loss: 0.0710 - acc: 0.9779 - val_loss: 0.0742 - val_acc: 0.9806\n",
      "Epoch 7/20\n",
      "10s - loss: 0.0631 - acc: 0.9802 - val_loss: 0.0732 - val_acc: 0.9804\n",
      "Epoch 8/20\n",
      "10s - loss: 0.0599 - acc: 0.9816 - val_loss: 0.0759 - val_acc: 0.9808\n",
      "Epoch 9/20\n",
      "10s - loss: 0.0531 - acc: 0.9837 - val_loss: 0.0745 - val_acc: 0.9821\n",
      "Epoch 10/20\n",
      "10s - loss: 0.0490 - acc: 0.9848 - val_loss: 0.0798 - val_acc: 0.9790\n",
      "Epoch 11/20\n",
      "10s - loss: 0.0469 - acc: 0.9849 - val_loss: 0.0717 - val_acc: 0.9822\n",
      "Epoch 12/20\n",
      "10s - loss: 0.0438 - acc: 0.9866 - val_loss: 0.0752 - val_acc: 0.9817\n",
      "Epoch 13/20\n",
      "10s - loss: 0.0401 - acc: 0.9876 - val_loss: 0.0763 - val_acc: 0.9834\n",
      "Epoch 14/20\n",
      "10s - loss: 0.0396 - acc: 0.9880 - val_loss: 0.0722 - val_acc: 0.9820\n",
      "Epoch 15/20\n",
      "11s - loss: 0.0378 - acc: 0.9883 - val_loss: 0.0765 - val_acc: 0.9830\n",
      "Epoch 16/20\n",
      "11s - loss: 0.0358 - acc: 0.9888 - val_loss: 0.0734 - val_acc: 0.9839\n",
      "Epoch 17/20\n",
      "11s - loss: 0.0355 - acc: 0.9891 - val_loss: 0.0768 - val_acc: 0.9837\n",
      "Epoch 18/20\n",
      "10s - loss: 0.0331 - acc: 0.9903 - val_loss: 0.0716 - val_acc: 0.9855\n",
      "Epoch 19/20\n",
      "10s - loss: 0.0326 - acc: 0.9904 - val_loss: 0.0730 - val_acc: 0.9848\n",
      "Epoch 20/20\n",
      "11s - loss: 0.0294 - acc: 0.9914 - val_loss: 0.0812 - val_acc: 0.9834\n",
      "Training duration : 219.833214045\n",
      "Network's test score [loss, accuracy]: [0.081246848871889349, 0.98340000000000005]\n"
     ]
    }
   ],
   "source": [
    "model, losses = run_network()"
   ]
  },
  {
   "cell_type": "code",
   "execution_count": 25,
   "metadata": {
    "collapsed": false
   },
   "outputs": [
    {
     "data": {
      "image/png": "[encoded data removed]",
      "text/plain": [
       "<matplotlib.figure.Figure at 0x7f97e19afc50>"
      ]
     },
     "metadata": {},
     "output_type": "display_data"
    }
   ],
   "source": [
    "def plot_losses(losses):\n",
    "    fig = plt.figure()\n",
    "    ax = fig.add_subplot(111)\n",
    "    ax.plot(losses)\n",
    "    ax.set_title('Loss per batch')\n",
    "    fig.show()\n",
    "\n",
    "plot_losses(losses)"
   ]
  },
  {
   "cell_type": "code",
   "execution_count": null,
   "metadata": {
    "collapsed": true
   },
   "outputs": [],
   "source": []
  }
 ],
 "metadata": {
  "kernelspec": {
   "display_name": "Python 2",
   "language": "python",
   "name": "python2"
  },
  "language_info": {
   "codemirror_mode": {
    "name": "ipython",
    "version": 2
   },
   "file_extension": ".py",
   "mimetype": "text/x-python",
   "name": "python",
   "nbconvert_exporter": "python",
   "pygments_lexer": "ipython2",
   "version": "2.7.6"
  }
 },
 "nbformat": 4,
 "nbformat_minor": 0
}
