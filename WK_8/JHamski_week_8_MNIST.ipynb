{
 "cells": [
  {
   "cell_type": "markdown",
   "metadata": {},
   "source": [
    "# Week 8 - MINST Bagging"
   ]
  },
  {
   "cell_type": "markdown",
   "metadata": {},
   "source": [
    "*Using the MNIST hand-written character dataset, use bagging to improve your method. Submit your code and a summary of the results. How much better/worse are your results?*"
   ]
  },
  {
   "cell_type": "markdown",
   "metadata": {},
   "source": [
    "### 1. MNIST character recognition without bagging\n",
    "\n",
    "This script is modified from: https://github.com/Vict0rSch/deep_learning/tree/master/keras/feedforward"
   ]
  },
  {
   "cell_type": "code",
   "execution_count": 1,
   "metadata": {
    "collapsed": false
   },
   "outputs": [
    {
     "name": "stderr",
     "output_type": "stream",
     "text": [
      "Using Theano backend.\n"
     ]
    }
   ],
   "source": [
    "import time\n",
    "import numpy as np\n",
    "from matplotlib import pyplot as plt\n",
    "from keras.utils import np_utils\n",
    "import keras.callbacks as cb\n",
    "from keras.models import Sequential\n",
    "from keras.layers.core import Dense, Dropout, Activation\n",
    "from keras.optimizers import RMSprop\n",
    "from keras.datasets import mnist\n",
    "from keras.layers import Merge"
   ]
  },
  {
   "cell_type": "code",
   "execution_count": 2,
   "metadata": {
    "collapsed": false
   },
   "outputs": [
    {
     "name": "stdout",
     "output_type": "stream",
     "text": [
      "Populating the interactive namespace from numpy and matplotlib\n"
     ]
    }
   ],
   "source": [
    "%pylab inline"
   ]
  },
  {
   "cell_type": "code",
   "execution_count": 3,
   "metadata": {
    "collapsed": true
   },
   "outputs": [],
   "source": [
    "class LossHistory(cb.Callback):\n",
    "    def on_train_begin(self, logs={}):\n",
    "        self.losses = []\n",
    "\n",
    "    def on_batch_end(self, batch, logs={}):\n",
    "        batch_loss = logs.get('loss')\n",
    "        self.losses.append(batch_loss)"
   ]
  },
  {
   "cell_type": "code",
   "execution_count": 4,
   "metadata": {
    "collapsed": true
   },
   "outputs": [],
   "source": [
    "def load_data():\n",
    "    print 'Loading data...'\n",
    "    (X_train, y_train), (X_test, y_test) = mnist.load_data()\n",
    "\n",
    "    X_train = X_train.astype('float32')\n",
    "    X_test = X_test.astype('float32')\n",
    "\n",
    "    X_train /= 255\n",
    "    X_test /= 255\n",
    "\n",
    "    y_train = np_utils.to_categorical(y_train, 10)\n",
    "    y_test = np_utils.to_categorical(y_test, 10)\n",
    "\n",
    "    X_train = np.reshape(X_train, (60000, 784))\n",
    "    X_test = np.reshape(X_test, (10000, 784))\n",
    "\n",
    "    print 'Data loaded.'\n",
    "    return [X_train, X_test, y_train, y_test]\n"
   ]
  },
  {
   "cell_type": "code",
   "execution_count": 5,
   "metadata": {
    "collapsed": true
   },
   "outputs": [],
   "source": [
    "def init_model():\n",
    "    start_time = time.time()\n",
    "    print 'Compiling Model ... '\n",
    "    model = Sequential()\n",
    "    model.add(Dense(500, input_dim=784))\n",
    "    model.add(Activation('relu'))\n",
    "    model.add(Dropout(0.4))\n",
    "    model.add(Dense(300))\n",
    "    model.add(Activation('relu'))\n",
    "    model.add(Dropout(0.4))\n",
    "    model.add(Dense(10))\n",
    "    model.add(Activation('softmax'))\n",
    "\n",
    "    rms = RMSprop()\n",
    "    model.compile(loss='categorical_crossentropy', optimizer=rms, metrics=['accuracy'])\n",
    "    print 'Model compiled in {0} seconds'.format(time.time() - start_time)\n",
    "    return model"
   ]
  },
  {
   "cell_type": "code",
   "execution_count": 6,
   "metadata": {
    "collapsed": true
   },
   "outputs": [],
   "source": [
    "def run_network(data=None, model=None, epochs=20, batch=256):\n",
    "    try:\n",
    "        start_time = time.time()\n",
    "        if data is None:\n",
    "            X_train, X_test, y_train, y_test = load_data()\n",
    "        else:\n",
    "            X_train, X_test, y_train, y_test = data\n",
    "\n",
    "        if model is None:\n",
    "            model = init_model()\n",
    "\n",
    "        history = LossHistory()\n",
    "\n",
    "        print 'Training model...'\n",
    "        model.fit(X_train, y_train, nb_epoch=epochs, batch_size=batch,\n",
    "                  callbacks=[history], validation_data=(X_test, y_test), verbose=0)\n",
    "\n",
    "        print \"Training duration : {0}\".format(time.time() - start_time)\n",
    "        score = model.evaluate(X_test, y_test, batch_size=16, verbose = 0)\n",
    "\n",
    "        print \"Network's test score [loss, accuracy]: {0}\".format(score)\n",
    "        return model, history.losses, score\n",
    "    \n",
    "    except KeyboardInterrupt:\n",
    "        print ' KeyboardInterrupt'\n",
    "        return model, history.losses"
   ]
  },
  {
   "cell_type": "code",
   "execution_count": 7,
   "metadata": {
    "collapsed": false
   },
   "outputs": [
    {
     "name": "stdout",
     "output_type": "stream",
     "text": [
      "Loading data...\n",
      "Data loaded.\n",
      "Compiling Model ... \n",
      "Model compiled in 0.703524112701 seconds\n",
      "Training model...\n",
      "Training duration : 217.73646903\n",
      "Network's test score [loss, accuracy]: [0.085744078117444, 0.98419999999999996]\n"
     ]
    }
   ],
   "source": [
    "model, losses, score = run_network()"
   ]
  },
  {
   "cell_type": "code",
   "execution_count": 8,
   "metadata": {
    "collapsed": true
   },
   "outputs": [],
   "source": [
    "no_bagging_score = score[1]"
   ]
  },
  {
   "cell_type": "code",
   "execution_count": 9,
   "metadata": {
    "collapsed": false
   },
   "outputs": [
    {
     "name": "stderr",
     "output_type": "stream",
     "text": [
      "/usr/lib/pymodules/python2.7/matplotlib/figure.py:371: UserWarning: matplotlib is currently using a non-GUI backend, so cannot show the figure\n",
      "  \"matplotlib is currently using a non-GUI backend, \"\n"
     ]
    },
    {
     "data": {
      "image/png": "[encoded data removed]",
      "text/plain": [
       "<matplotlib.figure.Figure at 0x7fc62a5a8450>"
      ]
     },
     "metadata": {},
     "output_type": "display_data"
    }
   ],
   "source": [
    "def plot_losses(losses):\n",
    "    fig = plt.figure()\n",
    "    ax = fig.add_subplot(111)\n",
    "    ax.plot(losses)\n",
    "    ax.set_title('Loss per batch')\n",
    "    fig.show()\n",
    "\n",
    "plot_losses(losses)"
   ]
  },
  {
   "cell_type": "markdown",
   "metadata": {},
   "source": [
    "### 2. Bagging Implementation \n"
   ]
  },
  {
   "cell_type": "code",
   "execution_count": 10,
   "metadata": {
    "collapsed": true
   },
   "outputs": [],
   "source": [
    "def bagging_generator(X_train, y_train):\n",
    "    obs_length = len(X_train)\n",
    "    random_indices = np.random.randint(low = 0, high = obs_length, size = obs_length)\n",
    "    \n",
    "    X_train_bag = X_train[random_indices]\n",
    "    y_train_bag = y_train[random_indices]\n",
    "    \n",
    "    print random_indices[1]\n",
    "    return X_train_bag, y_train_bag    "
   ]
  },
  {
   "cell_type": "code",
   "execution_count": 11,
   "metadata": {
    "collapsed": true
   },
   "outputs": [],
   "source": [
    "def merge_models(model_record):\n",
    "    print 'Compiling Final Model ... '\n",
    "    merged = Merge(model_record, mode='ave')\n",
    "    final_model = Sequential()\n",
    "    final_model.add(merged)\n",
    "    rms = RMSprop()\n",
    "    final_model.compile(loss='categorical_crossentropy', optimizer=rms, metrics=['accuracy'])\n",
    "    \n",
    "    return final_model"
   ]
  },
  {
   "cell_type": "code",
   "execution_count": 12,
   "metadata": {
    "collapsed": true
   },
   "outputs": [],
   "source": [
    "def run_network_bagging(data=None, model=None, epochs=20, batch=256, bags=10):\n",
    "    try:\n",
    "        start_time = time.time()\n",
    "        if data is None:\n",
    "            X_train, X_test, y_train, y_test = load_data()\n",
    "        else:\n",
    "            X_train, X_test, y_train, y_test = data\n",
    "\n",
    "        if model is None:\n",
    "            model = init_model()\n",
    "\n",
    "        history = LossHistory()\n",
    "        \n",
    "        model_record = []\n",
    "        score_record = []\n",
    "\n",
    "        for i in range(0,(bags-1)):\n",
    "            \n",
    "            print i\n",
    "            X_train_bag, y_train_bag = bagging_generator(X_train, y_train)\n",
    "        \n",
    "            print 'Training model...'\n",
    "            model.fit(X_train_bag, y_train_bag, nb_epoch=epochs, batch_size=batch,\n",
    "                      callbacks=[history], validation_data=(X_test, y_test), verbose=0)\n",
    "            \n",
    "            model_record.append(model)\n",
    "     \n",
    "            print \"Training duration : {0}\".format(time.time() - start_time)\n",
    "        \n",
    "            score = model.evaluate(X_test, y_test, batch_size=16, verbose = 0)\n",
    "            score_record.append(score)\n",
    "            print \"Bag model's test score [loss, accuracy]: {0}\".format(score)\n",
    "            \n",
    "        return model_record, X_train, y_train, X_test, y_test\n",
    "        \n",
    "    except KeyboardInterrupt:\n",
    "        print ' KeyboardInterrupt'\n",
    "        return model, history.losses"
   ]
  },
  {
   "cell_type": "code",
   "execution_count": 13,
   "metadata": {
    "collapsed": false
   },
   "outputs": [
    {
     "name": "stdout",
     "output_type": "stream",
     "text": [
      "Loading data...\n",
      "Data loaded.\n",
      "Compiling Model ... \n",
      "Model compiled in 0.238909006119 seconds\n",
      "0\n",
      "22732\n",
      "Training model...\n",
      "Training duration : 221.292720795\n",
      "Bag model's test score [loss, accuracy]: [0.11330453635259428, 0.97989999999999999]\n",
      "1\n",
      "51930\n",
      "Training model...\n",
      "Training duration : 454.82444191\n",
      "Bag model's test score [loss, accuracy]: [0.11305700443888131, 0.9839]\n",
      "2\n",
      "17515\n",
      "Training model...\n",
      "Training duration : 705.322721958\n",
      "Bag model's test score [loss, accuracy]: [0.13116109745593593, 0.98329999999999995]\n",
      "3\n",
      "10563\n",
      "Training model...\n",
      "Training duration : 952.29229188\n",
      "Bag model's test score [loss, accuracy]: [0.12333743373101917, 0.98419999999999996]\n",
      "4\n",
      "9701\n",
      "Training model...\n",
      "Training duration : 1199.21475792\n",
      "Bag model's test score [loss, accuracy]: [0.13115552903754446, 0.98540000000000005]\n",
      "5\n",
      "7207\n",
      "Training model...\n",
      "Training duration : 1450.59256387\n",
      "Bag model's test score [loss, accuracy]: [0.15064788035066679, 0.98209999999999997]\n",
      "6\n",
      "1849\n",
      "Training model...\n",
      "Training duration : 1701.20073581\n",
      "Bag model's test score [loss, accuracy]: [0.14517027437789098, 0.98429999999999995]\n",
      "7\n",
      "42524\n",
      "Training model...\n",
      "Training duration : 1988.19745994\n",
      "Bag model's test score [loss, accuracy]: [0.16260169867231977, 0.98299999999999998]\n",
      "8\n",
      "15563\n",
      "Training model...\n",
      "Training duration : 2293.74088478\n",
      "Bag model's test score [loss, accuracy]: [0.16065712252524708, 0.98319999999999996]\n"
     ]
    }
   ],
   "source": [
    "bagging_models, X_train, y_train, X_test, y_test = run_network_bagging()"
   ]
  },
  {
   "cell_type": "code",
   "execution_count": 14,
   "metadata": {
    "collapsed": false
   },
   "outputs": [
    {
     "name": "stdout",
     "output_type": "stream",
     "text": [
      "Compiling Final Model ... \n"
     ]
    }
   ],
   "source": [
    "final_model = merge_models(bagging_models)"
   ]
  },
  {
   "cell_type": "code",
   "execution_count": 15,
   "metadata": {
    "collapsed": true
   },
   "outputs": [],
   "source": [
    "def final_model_eval(final_model, X_train, y_train, X_test, y_test):\n",
    "        \n",
    "    final_model.fit(X_train, y_train, nb_epoch=3, batch_size=256, validation_data=(X_test, y_test), verbose=0)\n",
    "\n",
    "    final_score =  final_model.evaluate(X_test, y_test, batch_size=16, verbose = 0)\n",
    "    print \"Using bagging, the model's test score is [loss, accuracy]: {0}\".format(final_score)\n",
    "\n",
    "    return final_score"
   ]
  },
  {
   "cell_type": "code",
   "execution_count": 16,
   "metadata": {
    "collapsed": false
   },
   "outputs": [
    {
     "name": "stdout",
     "output_type": "stream",
     "text": [
      "Using bagging, the model's test score is [loss, accuracy]: [0.15686859648802912, 0.98319999999999996]\n"
     ]
    }
   ],
   "source": [
    "final_score = final_model_eval(final_model, X_train, y_train, X_test, y_test)"
   ]
  },
  {
   "cell_type": "code",
   "execution_count": 17,
   "metadata": {
    "collapsed": false
   },
   "outputs": [
    {
     "name": "stdout",
     "output_type": "stream",
     "text": [
      "0.9832\n"
     ]
    }
   ],
   "source": [
    "print final_score[1]"
   ]
  },
  {
   "cell_type": "code",
   "execution_count": 18,
   "metadata": {
    "collapsed": false
   },
   "outputs": [
    {
     "name": "stdout",
     "output_type": "stream",
     "text": [
      "0.9842\n"
     ]
    }
   ],
   "source": [
    "print no_bagging_score"
   ]
  },
  {
   "cell_type": "markdown",
   "metadata": {},
   "source": [
    "The original model already has an extremely high score. The use of bagging does not effect the score very much. This may be because the MNIST dataset does not have a high variance, so bagging is not an ensemble technique that is required. "
   ]
  }
 ],
 "metadata": {
  "kernelspec": {
   "display_name": "Python 2",
   "language": "python",
   "name": "python2"
  },
  "language_info": {
   "codemirror_mode": {
    "name": "ipython",
    "version": 2
   },
   "file_extension": ".py",
   "mimetype": "text/x-python",
   "name": "python",
   "nbconvert_exporter": "python",
   "pygments_lexer": "ipython2",
   "version": "2.7.6"
  }
 },
 "nbformat": 4,
 "nbformat_minor": 0
}
